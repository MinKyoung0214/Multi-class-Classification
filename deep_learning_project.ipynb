{
  "nbformat": 4,
  "nbformat_minor": 0,
  "metadata": {
    "colab": {
      "provenance": []
    },
    "kernelspec": {
      "name": "ir",
      "display_name": "R"
    },
    "language_info": {
      "name": "R"
    }
  },
  "cells": [
    {
      "cell_type": "markdown",
      "source": [
        "원래 예제 분석\n"
      ],
      "metadata": {
        "id": "856H-FF7jh6a"
      }
    },
    {
      "cell_type": "markdown",
      "source": [
        "**1. 로이터 데이터**"
      ],
      "metadata": {
        "id": "Vn9IjgGQy0kY"
      }
    },
    {
      "cell_type": "code",
      "execution_count": null,
      "metadata": {
        "id": "CAT86urrgrzK"
      },
      "outputs": [],
      "source": [
        "knitr::opts_chunk$set(warning = FALSE, message = FALSE)"
      ]
    },
    {
      "cell_type": "markdown",
      "source": [
        " R 코드에서 knitr 패키지를 사용할 때 코드 청크(chunk)의 옵션을 설정하는 코드\n",
        " 설정한 옵션들은 R 코드 청크를 실행할 때 경고 메시지와 일반 메시지를 출력하지 않도록 설정하여 문서를 깔끔하고 읽기 쉽게 만들어줬다."
      ],
      "metadata": {
        "id": "VbmOSgxiqk4R"
      }
    },
    {
      "cell_type": "code",
      "source": [
        "install.packages(\"keras\")"
      ],
      "metadata": {
        "colab": {
          "base_uri": "https://localhost:8080/"
        },
        "id": "iE1mVltehAVe",
        "outputId": "aa2bdbbd-eb3c-4cbe-cb90-f020ad23dea4"
      },
      "execution_count": null,
      "outputs": [
        {
          "output_type": "stream",
          "name": "stderr",
          "text": [
            "Installing package into ‘/usr/local/lib/R/site-library’\n",
            "(as ‘lib’ is unspecified)\n",
            "\n",
            "also installing the dependencies ‘Rcpp’, ‘RcppTOML’, ‘here’, ‘png’, ‘config’, ‘tfautograph’, ‘reticulate’, ‘tensorflow’, ‘tfruns’, ‘zeallot’\n",
            "\n",
            "\n"
          ]
        }
      ]
    },
    {
      "cell_type": "code",
      "source": [
        "library(keras)"
      ],
      "metadata": {
        "id": "yrDs3cjMg3t9"
      },
      "execution_count": null,
      "outputs": []
    },
    {
      "cell_type": "markdown",
      "source": [
        "R에서 딥러닝 모델을 쉽게 구축하고 학습할 수 있게 해주는 Keras 패키지를 설치하고 로드한다."
      ],
      "metadata": {
        "id": "VtjE2mzNrkmJ"
      }
    },
    {
      "cell_type": "code",
      "source": [
        "reuters <- dataset_reuters(num_words = 10000)"
      ],
      "metadata": {
        "id": "bquZ-66sg32Y"
      },
      "execution_count": null,
      "outputs": []
    },
    {
      "cell_type": "code",
      "source": [
        "c(c(train_data, train_labels), c(test_data, test_labels)) %<-% reuters"
      ],
      "metadata": {
        "id": "UHQ44REfg346"
      },
      "execution_count": null,
      "outputs": []
    },
    {
      "cell_type": "markdown",
      "source": [
        "Keras에서 제공하는 Reuters 뉴스 데이터를 로드하는데 모델 학습의 효율성을 높이기 위해 자주 나타나는 단어만 사용하기위해 가장 자주 나타나는 10,000개의 단어만 사용다.\n",
        "\n",
        "그런다음 ,  reuters 데이터셋을 훈련 데이터와 테스트 데이터로 분할하는 작업을 수행한다."
      ],
      "metadata": {
        "id": "5WgOXl96rnZo"
      }
    },
    {
      "cell_type": "code",
      "source": [
        "length(train_data)"
      ],
      "metadata": {
        "colab": {
          "base_uri": "https://localhost:8080/",
          "height": 34
        },
        "id": "oJ21HGidg37j",
        "outputId": "970ea708-89a5-48b9-b0ef-826608863d77"
      },
      "execution_count": null,
      "outputs": [
        {
          "output_type": "display_data",
          "data": {
            "text/html": [
              "8982"
            ],
            "text/markdown": "8982",
            "text/latex": "8982",
            "text/plain": [
              "[1] 8982"
            ]
          },
          "metadata": {}
        }
      ]
    },
    {
      "cell_type": "code",
      "source": [
        "length(test_data)"
      ],
      "metadata": {
        "colab": {
          "base_uri": "https://localhost:8080/",
          "height": 34
        },
        "id": "uPK_Glzkh1iH",
        "outputId": "4117b79d-d88a-4cc6-a4a5-2b410ed40aff"
      },
      "execution_count": null,
      "outputs": [
        {
          "output_type": "display_data",
          "data": {
            "text/html": [
              "2246"
            ],
            "text/markdown": "2246",
            "text/latex": "2246",
            "text/plain": [
              "[1] 2246"
            ]
          },
          "metadata": {}
        }
      ]
    },
    {
      "cell_type": "markdown",
      "source": [
        "length(train_data): train_data와 test_data 리스트의 길이를 계산합니다. 이 리스트들에는 훈련 데이터와 테스트 데이터에 포함된 뉴스 기사들의 수가 저장되어 있습니다. 출력값 8982는 훈련 데이터셋에 8982개의 뉴스 기사가 포함되어 있다는 것을 의미하며 2246는 테스트 데이터셋에 2246개의 뉴스 기사가 포함되어 있다는 것을 의미합니다.\n"
      ],
      "metadata": {
        "id": "EvhcYHresvmm"
      }
    },
    {
      "cell_type": "code",
      "source": [
        "train_data[[1]]"
      ],
      "metadata": {
        "colab": {
          "base_uri": "https://localhost:8080/",
          "height": 52
        },
        "id": "9jIZoJ3vh1k_",
        "outputId": "805ac9bb-3730-4875-d623-8da034e4501d"
      },
      "execution_count": null,
      "outputs": [
        {
          "output_type": "display_data",
          "data": {
            "text/html": [
              "<style>\n",
              ".list-inline {list-style: none; margin:0; padding: 0}\n",
              ".list-inline>li {display: inline-block}\n",
              ".list-inline>li:not(:last-child)::after {content: \"\\00b7\"; padding: 0 .5ex}\n",
              "</style>\n",
              "<ol class=list-inline><li>1</li><li>2</li><li>2</li><li>8</li><li>43</li><li>10</li><li>447</li><li>5</li><li>25</li><li>207</li><li>270</li><li>5</li><li>3095</li><li>111</li><li>16</li><li>369</li><li>186</li><li>90</li><li>67</li><li>7</li><li>89</li><li>5</li><li>19</li><li>102</li><li>6</li><li>19</li><li>124</li><li>15</li><li>90</li><li>67</li><li>84</li><li>22</li><li>482</li><li>26</li><li>7</li><li>48</li><li>4</li><li>49</li><li>8</li><li>864</li><li>39</li><li>209</li><li>154</li><li>6</li><li>151</li><li>6</li><li>83</li><li>11</li><li>15</li><li>22</li><li>155</li><li>11</li><li>15</li><li>7</li><li>48</li><li>9</li><li>4579</li><li>1005</li><li>504</li><li>6</li><li>258</li><li>6</li><li>272</li><li>11</li><li>15</li><li>22</li><li>134</li><li>44</li><li>11</li><li>15</li><li>16</li><li>8</li><li>197</li><li>1245</li><li>90</li><li>67</li><li>52</li><li>29</li><li>209</li><li>30</li><li>32</li><li>132</li><li>6</li><li>109</li><li>15</li><li>17</li><li>12</li></ol>\n"
            ],
            "text/markdown": "1. 1\n2. 2\n3. 2\n4. 8\n5. 43\n6. 10\n7. 447\n8. 5\n9. 25\n10. 207\n11. 270\n12. 5\n13. 3095\n14. 111\n15. 16\n16. 369\n17. 186\n18. 90\n19. 67\n20. 7\n21. 89\n22. 5\n23. 19\n24. 102\n25. 6\n26. 19\n27. 124\n28. 15\n29. 90\n30. 67\n31. 84\n32. 22\n33. 482\n34. 26\n35. 7\n36. 48\n37. 4\n38. 49\n39. 8\n40. 864\n41. 39\n42. 209\n43. 154\n44. 6\n45. 151\n46. 6\n47. 83\n48. 11\n49. 15\n50. 22\n51. 155\n52. 11\n53. 15\n54. 7\n55. 48\n56. 9\n57. 4579\n58. 1005\n59. 504\n60. 6\n61. 258\n62. 6\n63. 272\n64. 11\n65. 15\n66. 22\n67. 134\n68. 44\n69. 11\n70. 15\n71. 16\n72. 8\n73. 197\n74. 1245\n75. 90\n76. 67\n77. 52\n78. 29\n79. 209\n80. 30\n81. 32\n82. 132\n83. 6\n84. 109\n85. 15\n86. 17\n87. 12\n\n\n",
            "text/latex": "\\begin{enumerate*}\n\\item 1\n\\item 2\n\\item 2\n\\item 8\n\\item 43\n\\item 10\n\\item 447\n\\item 5\n\\item 25\n\\item 207\n\\item 270\n\\item 5\n\\item 3095\n\\item 111\n\\item 16\n\\item 369\n\\item 186\n\\item 90\n\\item 67\n\\item 7\n\\item 89\n\\item 5\n\\item 19\n\\item 102\n\\item 6\n\\item 19\n\\item 124\n\\item 15\n\\item 90\n\\item 67\n\\item 84\n\\item 22\n\\item 482\n\\item 26\n\\item 7\n\\item 48\n\\item 4\n\\item 49\n\\item 8\n\\item 864\n\\item 39\n\\item 209\n\\item 154\n\\item 6\n\\item 151\n\\item 6\n\\item 83\n\\item 11\n\\item 15\n\\item 22\n\\item 155\n\\item 11\n\\item 15\n\\item 7\n\\item 48\n\\item 9\n\\item 4579\n\\item 1005\n\\item 504\n\\item 6\n\\item 258\n\\item 6\n\\item 272\n\\item 11\n\\item 15\n\\item 22\n\\item 134\n\\item 44\n\\item 11\n\\item 15\n\\item 16\n\\item 8\n\\item 197\n\\item 1245\n\\item 90\n\\item 67\n\\item 52\n\\item 29\n\\item 209\n\\item 30\n\\item 32\n\\item 132\n\\item 6\n\\item 109\n\\item 15\n\\item 17\n\\item 12\n\\end{enumerate*}\n",
            "text/plain": [
              " [1]    1    2    2    8   43   10  447    5   25  207  270    5 3095  111   16\n",
              "[16]  369  186   90   67    7   89    5   19  102    6   19  124   15   90   67\n",
              "[31]   84   22  482   26    7   48    4   49    8  864   39  209  154    6  151\n",
              "[46]    6   83   11   15   22  155   11   15    7   48    9 4579 1005  504    6\n",
              "[61]  258    6  272   11   15   22  134   44   11   15   16    8  197 1245   90\n",
              "[76]   67   52   29  209   30   32  132    6  109   15   17   12"
            ]
          },
          "metadata": {}
        }
      ]
    },
    {
      "cell_type": "markdown",
      "source": [
        "첫 번째 훈련 샘플(뉴스 기사)을 나타내며, 숫자의 시퀀스가 출력됐다. 출력된 숫자들은 각 단어를 고유하게 나타내는 인덱스이다."
      ],
      "metadata": {
        "id": "zJtOM4sTtVJU"
      }
    },
    {
      "cell_type": "code",
      "source": [
        "word_index <- dataset_reuters_word_index()\n",
        "reverse_word_index <- names(word_index)\n",
        "names(reverse_word_index) <- word_index\n",
        "decoded_newswire <- sapply(train_data[[1]], function(index) {\n",
        "  # Note that our indices were offset by 3 because 0, 1, and 2\n",
        "  # are reserved indices for \"padding\", \"start of sequence\", and \"unknown\".\n",
        "  word <- if (index >= 3) reverse_word_index[[as.character(index - 3)]]\n",
        "  if (!is.null(word)) word else \"?\"\n",
        "})"
      ],
      "metadata": {
        "id": "J8EKXcn6h1oF"
      },
      "execution_count": null,
      "outputs": []
    },
    {
      "cell_type": "markdown",
      "source": [
        " 뉴스 데이터셋에서 단어 인덱스를 실제 단어로 디코딩하는 작업을 수행한다. 이를 통해 숫자로 구성된 뉴스 기사를 원래의 텍스트 형태로 변환한다.\n",
        "  각 숫자는 데이터셋의 단어 인덱스에 대응되며, 인덱스 3 이상은 실제 단어로 변환되고, 0, 1, 2는 특별한 인덱스로 처리되어 변환되지 않는다.\n",
        "\n",
        " decoded_newswire는 첫 번째 뉴스 기사의 단어들로 구성된 벡터가 되어 숫자 시퀀스 형태의 데이터를 사람이 읽을 수 있는 텍스트 형태로 변환한다."
      ],
      "metadata": {
        "id": "i7X_f7D5t17f"
      }
    },
    {
      "cell_type": "code",
      "source": [
        "cat(decoded_newswire)"
      ],
      "metadata": {
        "colab": {
          "base_uri": "https://localhost:8080/"
        },
        "id": "Oe_Wp0vch1uK",
        "outputId": "25843ac8-d54a-4d1e-b091-e400fc32173a"
      },
      "execution_count": null,
      "outputs": [
        {
          "output_type": "stream",
          "name": "stdout",
          "text": [
            "? ? ? said as a result of its december acquisition of space co it expects earnings per share in 1987 of 1 15 to 1 30 dlrs per share up from 70 cts in 1986 the company said pretax net should rise to nine to 10 mln dlrs from six mln dlrs in 1986 and rental operation revenues to 19 to 22 mln dlrs from 12 5 mln dlrs it said cash flow per share this year should be 2 50 to three dlrs reuter 3"
          ]
        }
      ]
    },
    {
      "cell_type": "markdown",
      "source": [
        "'?'는 인덱스가 0, 1, 2인 특별한 경우 또는 변환되지 않은 단어이다."
      ],
      "metadata": {
        "id": "dOlW5W9eu2pB"
      }
    },
    {
      "cell_type": "code",
      "source": [
        "train_labels[[1]]"
      ],
      "metadata": {
        "colab": {
          "base_uri": "https://localhost:8080/",
          "height": 34
        },
        "id": "ticSLX-ciF-E",
        "outputId": "651dd18c-f83a-4ad7-eded-0ca78a41bd25"
      },
      "execution_count": null,
      "outputs": [
        {
          "output_type": "display_data",
          "data": {
            "text/html": [
              "3"
            ],
            "text/markdown": "3",
            "text/latex": "3",
            "text/plain": [
              "[1] 3"
            ]
          },
          "metadata": {}
        }
      ]
    },
    {
      "cell_type": "markdown",
      "source": [
        "첫 번째 훈련 샘플의 카테고리를 반환하여, 이 뉴스 기사의  카테고리가 3 이라는것을 알 수 있다.\n",
        "\n"
      ],
      "metadata": {
        "id": "gthdqrEtu_J_"
      }
    },
    {
      "cell_type": "markdown",
      "source": [
        "**2. 데이터 준비**"
      ],
      "metadata": {
        "id": "ccIVKoUcy7qg"
      }
    },
    {
      "cell_type": "code",
      "source": [
        "vectorize_sequences <- function(sequences, dimension = 10000) {\n",
        "  results <- matrix(0, nrow = length(sequences), ncol = dimension)\n",
        "  for (i in 1:length(sequences))\n",
        "    results[i, sequences[[i]]] <- 1\n",
        "  results\n",
        "}"
      ],
      "metadata": {
        "id": "EwtepYBoiGAK"
      },
      "execution_count": null,
      "outputs": []
    },
    {
      "cell_type": "markdown",
      "source": [
        "vectorize_sequences 함수를 만들어서 뉴스 기사의 단어 인덱스 시퀀스를 고정된 크기의 이진 벡터로 변환하게 합니다. 각 벡터는 해당 뉴스 기사에 특정 단어가 포함되어 있는지를 나타냅니다."
      ],
      "metadata": {
        "id": "KVp69MSLwj1l"
      }
    },
    {
      "cell_type": "code",
      "source": [
        "x_train <- vectorize_sequences(train_data)\n",
        "x_test <- vectorize_sequences(test_data)"
      ],
      "metadata": {
        "id": "60JsaVcTiGHP"
      },
      "execution_count": null,
      "outputs": []
    },
    {
      "cell_type": "markdown",
      "source": [
        "이 코드는 'train_data'와 'test_data'를 벡터화하여 신경망 모델의 입력으로 사용할 수 있는 형태로 변환한다. 'x_train'은 'train_data'의 각 뉴스 기사를 10,000 차원의 이진 벡터로 표현한 행렬이 된다."
      ],
      "metadata": {
        "id": "PeIw_7gfwr0b"
      }
    },
    {
      "cell_type": "code",
      "source": [
        "to_one_hot <- function(labels, dimension = 46) {\n",
        "  results <- matrix(0, nrow = length(labels), ncol = dimension)\n",
        "  for (i in 1:length(labels))\n",
        "    results[i, labels[[i]] + 1] <- 1\n",
        "  results\n",
        "}\n",
        "\n",
        "one_hot_train_labels <- to_one_hot(train_labels)\n",
        "one_hot_test_labels <- to_one_hot(test_labels)"
      ],
      "metadata": {
        "id": "S7wgJ27ziM8X"
      },
      "execution_count": null,
      "outputs": []
    },
    {
      "cell_type": "markdown",
      "source": [
        "레이블을 원-핫 인코딩으로 변환하는 과정을 수행한다. 각 벡터는 해당 레이블에 해당하는 위치만 1이고 나머지는 0인 형태이다.\n",
        "\n",
        "train_labels,test_labels를 원-핫 인코딩하여 one_hot_train_labels,one_hot_test_labels에 저장한다.\n",
        "그러 one_hot_train_labels, one_hot_test_labels는 train_labels,test_labels의 각 레이블을 46 차원의 이진 벡터로 표현한 행렬이 된다.\n"
      ],
      "metadata": {
        "id": "xU_-QtPyxxny"
      }
    },
    {
      "cell_type": "code",
      "source": [
        "one_hot_train_labels <- to_categorical(train_labels)\n",
        "one_hot_test_labels <- to_categorical(test_labels)"
      ],
      "metadata": {
        "id": "iCXU9YyiiNBB"
      },
      "execution_count": null,
      "outputs": []
    },
    {
      "cell_type": "markdown",
      "source": [
        "레이블을 원-핫 인코딩으로 쉽게 변환할 수 있게 해주는 Keras 라이브러리의 to_categorical 함수를 사용하여 train_labels와 test_labels를 원-핫 인코딩으로 변환하는 작업을 수행한다."
      ],
      "metadata": {
        "id": "AElN9Cu4ykpJ"
      }
    },
    {
      "cell_type": "markdown",
      "source": [
        "**3. 망구축**"
      ],
      "metadata": {
        "id": "5_ZHKTQTzGOk"
      }
    },
    {
      "cell_type": "code",
      "source": [
        "model <- keras_model_sequential() %>%\n",
        "  layer_dense(units = 64, activation = \"relu\", input_shape = c(10000)) %>%\n",
        "  layer_dense(units = 64, activation = \"relu\") %>%\n",
        "  layer_dense(units = 46, activation = \"softmax\")"
      ],
      "metadata": {
        "id": "saVqdKFziNEx"
      },
      "execution_count": null,
      "outputs": []
    },
    {
      "cell_type": "markdown",
      "source": [
        " `keras_model_sequential()` 함수를 사용하여 순차 모델을 생성한다.\n",
        "\n",
        " 그 다음, Dense Layer을 추가한다. 첫 번째 층에는 64개의 뉴런이 있으며, 활성화 함수로 ReLU를 사용한다. 이 층은 입력 데이터의 형상을 10,000 차원의 벡터로 지정한다.\n",
        "두 번째 밀집층도 첫 번째 층과 마찬가지로 64개의 뉴런과 ReLU 활성화 함수를 사용한다.\n",
        "\n",
        "마지막으로, 출력층을 추가한다. 출력층에는 46개의 뉴런이 있으며, 활성화 함수로 Softmax를 사용한다. 출력층의 출력은 각 카테고리에 속할 확률로 해석된다.\n",
        "\n",
        "결론적으로, 이 모델은 뉴스 기사의 벡터화된 입력을 받아, 각 뉴스 기사가 46개의 카테고리 중 어느 하나에 속할 확률을 예측하는 것이다."
      ],
      "metadata": {
        "id": "BZEOYVTWzuNF"
      }
    },
    {
      "cell_type": "code",
      "source": [
        "model %>% compile(\n",
        "  optimizer = \"rmsprop\",\n",
        "  loss = \"categorical_crossentropy\",\n",
        "  metrics = c(\"accuracy\")\n",
        ")"
      ],
      "metadata": {
        "id": "YOqQ42dpiNHQ"
      },
      "execution_count": null,
      "outputs": []
    },
    {
      "cell_type": "markdown",
      "source": [
        "신경망 모델을 컴파일하여 학습 준비를 완료하는 부분이다. RMSprop 최적화 알고리즘을 사용하여 모델의 가중치를 업데이트하며, 범주형 교차 엔트로피 손실 함수를 통해 손실을 계산하고, 정확도를 평가 지표로 설정하여 모델의 성능을 모니터링한다. 이 과정은 모델이 데이터를 학습하고 예측을 개선해 나가는 데 필요한 설정을 완료하는 단계이다."
      ],
      "metadata": {
        "id": "6DxymA5P1OAE"
      }
    },
    {
      "cell_type": "markdown",
      "source": [
        "**접근법 검증하기**"
      ],
      "metadata": {
        "id": "XoNkMJfn1WLa"
      }
    },
    {
      "cell_type": "code",
      "source": [
        "val_indices <- 1:1000\n",
        "\n",
        "x_val <- x_train[val_indices,]\n",
        "partial_x_train <- x_train[-val_indices,]\n",
        "\n",
        "y_val <- one_hot_train_labels[val_indices,]\n",
        "partial_y_train = one_hot_train_labels[-val_indices,]"
      ],
      "metadata": {
        "id": "Em2mCoqBiT1H"
      },
      "execution_count": null,
      "outputs": []
    },
    {
      "cell_type": "markdown",
      "source": [
        "과적합을 방지하고 모델의 일반화 성능을 평가하기위해 훈련 데이터와 레이블을 훈련 세트와 검증 세트로 나눈다. 이를 통해 모델이 훈련되는 동안 검증 세트를 사용해 모델의 성능을 평가할 수 있다."
      ],
      "metadata": {
        "id": "9Z_o8gNZ2W_f"
      }
    },
    {
      "cell_type": "code",
      "source": [
        "history <- model %>% fit(\n",
        "  partial_x_train,\n",
        "  partial_y_train,\n",
        "  epochs = 20,\n",
        "  batch_size = 512,\n",
        "  validation_data = list(x_val, y_val)\n",
        ")"
      ],
      "metadata": {
        "id": "w8F2roWHiT5B"
      },
      "execution_count": null,
      "outputs": []
    },
    {
      "cell_type": "markdown",
      "source": [
        "모델을 20번 반복하여 학습시키며, 각 반복마다 512개의 샘플을 사용하여 가중치를 업데이트하며 모델의 성능을 평가하기 위해 훈련되지 않은 별도의 검증 데이터를 사용한다. 이 과정에서 loss와 정확도 등의 정보가 history에 저장되며 이를 통해 모델의 성능 변화를 모니터링할 수 있다."
      ],
      "metadata": {
        "id": "LohgK4Qf26yB"
      }
    },
    {
      "cell_type": "code",
      "source": [
        "plot(history)"
      ],
      "metadata": {
        "colab": {
          "base_uri": "https://localhost:8080/",
          "height": 437
        },
        "id": "1ZHnuY01iT77",
        "outputId": "e8418e7f-1855-4658-bd98-bb4ff3e4b218"
      },
      "execution_count": null,
      "outputs": [
        {
          "output_type": "display_data",
          "data": {
            "text/plain": [
              "plot without title"
            ],
            "image/png": "[encoded data removed]"
          },
          "metadata": {
            "image/png": {
              "width": 420,
              "height": 420
            }
          }
        }
      ]
    },
    {
      "cell_type": "markdown",
      "source": [
        "모델이 학습되는 동안의 loss와 정확도 등의 정보를 나타낸 그래프이다.\n",
        "\n",
        "모델은 훈련 데이터에 대해 잘 학습하고 있음을 보여주며 검증 데이터에 대해서는 잘 진행하다가 중간에 더 이상 성능이 개선되지 않고 있음을 보여준다.\n",
        "또한 에포크가 증가함에 따라 검증 손실이 증가하고 검증 정확도가 개선되지 않는 점에서 모델이 훈련 데이터에 과적합되고 있음을 알 수 있다. 이를 방지하기 위해 에포크 수를 줄여야한다."
      ],
      "metadata": {
        "id": "ATvRwGcM4GQr"
      }
    },
    {
      "cell_type": "code",
      "source": [
        "model <- keras_model_sequential() %>%\n",
        "  layer_dense(units = 64, activation = \"relu\", input_shape = c(10000)) %>%\n",
        "  layer_dense(units = 64, activation = \"relu\") %>%\n",
        "  layer_dense(units = 46, activation = \"softmax\")\n",
        "\n",
        "model %>% compile(\n",
        "  optimizer = \"rmsprop\",\n",
        "  loss = \"categorical_crossentropy\",\n",
        "  metrics = c(\"accuracy\")\n",
        ")\n",
        "\n",
        "history <- model %>% fit(\n",
        "  partial_x_train,\n",
        "  partial_y_train,\n",
        "  epochs = 9,\n",
        "  batch_size = 512,\n",
        "  validation_data = list(x_val, y_val)\n",
        ")\n",
        "\n",
        "results <- model %>% evaluate(x_test, one_hot_test_labels)\n"
      ],
      "metadata": {
        "id": "84EER5TXikN7"
      },
      "execution_count": null,
      "outputs": []
    },
    {
      "cell_type": "code",
      "source": [
        "## ------------------------------------------------------------------------\n",
        "results"
      ],
      "metadata": {
        "colab": {
          "base_uri": "https://localhost:8080/",
          "height": 34
        },
        "id": "24Hbts-OikUl",
        "outputId": "1490a986-4f94-4a4f-9050-06f6024c95d9"
      },
      "execution_count": null,
      "outputs": [
        {
          "output_type": "display_data",
          "data": {
            "text/html": [
              "<style>\n",
              ".dl-inline {width: auto; margin:0; padding: 0}\n",
              ".dl-inline>dt, .dl-inline>dd {float: none; width: auto; display: inline-block}\n",
              ".dl-inline>dt::after {content: \":\\0020\"; padding-right: .5ex}\n",
              ".dl-inline>dt:not(:first-of-type) {padding-left: .5ex}\n",
              "</style><dl class=dl-inline><dt>loss</dt><dd>0.95020055770874</dd><dt>accuracy</dt><dd>0.786731958389282</dd></dl>\n"
            ],
            "text/markdown": "loss\n:   0.95020055770874accuracy\n:   0.786731958389282\n\n",
            "text/latex": "\\begin{description*}\n\\item[loss] 0.95020055770874\n\\item[accuracy] 0.786731958389282\n\\end{description*}\n",
            "text/plain": [
              "     loss  accuracy \n",
              "0.9502006 0.7867320 "
            ]
          },
          "metadata": {}
        }
      ]
    },
    {
      "cell_type": "markdown",
      "source": [
        "신경망 모델을 다시 정의하고, 훈련 데이터를 사용하여  9에포크 동안 모델을 학습시킨 후, 테스트 데이터에서 모델의 성능을 평가한다. 그 결과, 모델은 테스트 데이터에서 약 0.97의 손실과 77.6%의 정확도를 달성했다. 이는 모델이 테스트 데이터에서 비교적 높은 정확도로 예측할 수 있음을 나타다."
      ],
      "metadata": {
        "id": "BKI2XXM26hYM"
      }
    },
    {
      "cell_type": "code",
      "source": [
        "test_labels_copy <- test_labels\n",
        "test_labels_copy <- sample(test_labels_copy)\n",
        "length(which(test_labels == test_labels_copy)) / length(test_labels)\n"
      ],
      "metadata": {
        "colab": {
          "base_uri": "https://localhost:8080/",
          "height": 34
        },
        "id": "8s_-E03TikXh",
        "outputId": "6ca10d1b-a035-43cd-8ffb-5eba8b0aa7f9"
      },
      "execution_count": null,
      "outputs": [
        {
          "output_type": "display_data",
          "data": {
            "text/html": [
              "0.200356188780053"
            ],
            "text/markdown": "0.200356188780053",
            "text/latex": "0.200356188780053",
            "text/plain": [
              "[1] 0.2003562"
            ]
          },
          "metadata": {}
        }
      ]
    },
    {
      "cell_type": "markdown",
      "source": [
        "테스트 데이터 레이블을 random하게 섞고, 섞인 레이블과 원래 레이블이 일치하는 비율을 계산하는 코드이다. 결과 값은 약 18.3%의 레이블이 무작위로 섞인 후에도 원래의 위치와 일치한다는 것을 의미하며 이전의 모델보다 모델의 성능이 얼마나 향상되었는지를 평가할 수 있다."
      ],
      "metadata": {
        "id": "bbA0edqn7Z7s"
      }
    },
    {
      "cell_type": "markdown",
      "source": [
        "**5. 새 데이터에 대한 예측 생성**"
      ],
      "metadata": {
        "id": "foBQZgvs79U5"
      }
    },
    {
      "cell_type": "code",
      "source": [
        "predictions <- model %>% predict(x_test)\n"
      ],
      "metadata": {
        "id": "zW-D-D7tikbH"
      },
      "execution_count": null,
      "outputs": []
    },
    {
      "cell_type": "code",
      "source": [
        "dim(predictions)"
      ],
      "metadata": {
        "colab": {
          "base_uri": "https://localhost:8080/",
          "height": 34
        },
        "id": "sXFryix2iT-1",
        "outputId": "cb5a12b3-73a1-4343-86e1-bd36bcd661ef"
      },
      "execution_count": null,
      "outputs": [
        {
          "output_type": "display_data",
          "data": {
            "text/html": [
              "<style>\n",
              ".list-inline {list-style: none; margin:0; padding: 0}\n",
              ".list-inline>li {display: inline-block}\n",
              ".list-inline>li:not(:last-child)::after {content: \"\\00b7\"; padding: 0 .5ex}\n",
              "</style>\n",
              "<ol class=list-inline><li>2246</li><li>46</li></ol>\n"
            ],
            "text/markdown": "1. 2246\n2. 46\n\n\n",
            "text/latex": "\\begin{enumerate*}\n\\item 2246\n\\item 46\n\\end{enumerate*}\n",
            "text/plain": [
              "[1] 2246   46"
            ]
          },
          "metadata": {}
        }
      ]
    },
    {
      "cell_type": "markdown",
      "source": [
        "훈련된 모델을 사용하여 테스트 데이터에 대한 예측을 수행하고, 예측 결과의 차원을 확인했다.\n",
        "실행결과, predictions 행렬의 크기는 2246 x 46으로, 2246개의 테스트 샘플 각각에 대해 46개의 클래스에 대한 확률을 제공한다."
      ],
      "metadata": {
        "id": "H7sGNsZuCoTk"
      }
    },
    {
      "cell_type": "code",
      "source": [
        "sum(predictions[1,])"
      ],
      "metadata": {
        "colab": {
          "base_uri": "https://localhost:8080/",
          "height": 34
        },
        "id": "3caIiGBwiwS7",
        "outputId": "315080bc-e51f-4d6e-c1a1-cfb96188e4bf"
      },
      "execution_count": null,
      "outputs": [
        {
          "output_type": "display_data",
          "data": {
            "text/html": [
              "0.999999918612843"
            ],
            "text/markdown": "0.999999918612843",
            "text/latex": "0.999999918612843",
            "text/plain": [
              "[1] 0.9999999"
            ]
          },
          "metadata": {}
        }
      ]
    },
    {
      "cell_type": "markdown",
      "source": [
        "벡터합의 계수 1에 가까운값이 결과로 도출됐다."
      ],
      "metadata": {
        "id": "jlsELg239Bdb"
      }
    },
    {
      "cell_type": "code",
      "source": [
        "which.max(predictions[1,])"
      ],
      "metadata": {
        "colab": {
          "base_uri": "https://localhost:8080/",
          "height": 34
        },
        "id": "zIrYFr5WiwbL",
        "outputId": "6d4d4470-103d-4445-dceb-fee43b8e64c8"
      },
      "execution_count": null,
      "outputs": [
        {
          "output_type": "display_data",
          "data": {
            "text/html": [
              "4"
            ],
            "text/markdown": "4",
            "text/latex": "4",
            "text/plain": [
              "[1] 4"
            ]
          },
          "metadata": {}
        }
      ]
    },
    {
      "cell_type": "markdown",
      "source": [
        "모델이 예측한 클래스 중 가장 높은 확률을 가진 클래스를 찾는 코드로  4번 클래스에 속할 확률이 가장 높다고 예측했다."
      ],
      "metadata": {
        "id": "u_cLPdEq9g-W"
      }
    },
    {
      "cell_type": "markdown",
      "source": [
        "**6. 레이블과 손실을 처리하는 다른 방법**"
      ],
      "metadata": {
        "id": "6CwjpmxT9oih"
      }
    },
    {
      "cell_type": "code",
      "source": [
        "model %>% compile(\n",
        "  optimizer = \"rmsprop\",\n",
        "  loss = \"sparse_categorical_crossentropy\",\n",
        "  metrics = c(\"accuracy\")\n",
        ")"
      ],
      "metadata": {
        "id": "T8R6lR3Ciwd7"
      },
      "execution_count": null,
      "outputs": []
    },
    {
      "cell_type": "markdown",
      "source": [
        "신경망 모델을 컴파일하여 학습 준비를 완료하는 과정이다. 컴파일 단계에서는 모델이 학습할 때 사용할 최적화 알고리즘, 손실 함수, 그리고 평가 지표를 설정한다."
      ],
      "metadata": {
        "id": "Glgu3yB1-RQ3"
      }
    },
    {
      "cell_type": "markdown",
      "source": [
        "**7. 충분히 큰 중간 계층을 갖는 것의 중요성**"
      ],
      "metadata": {
        "id": "ok6uuLz4-sXs"
      }
    },
    {
      "cell_type": "code",
      "source": [
        "model <- keras_model_sequential() %>%\n",
        "  layer_dense(units = 64, activation = \"relu\", input_shape = c(10000)) %>%\n",
        "  layer_dense(units = 4, activation = \"relu\") %>%\n",
        "  layer_dense(units = 46, activation = \"softmax\")\n",
        "\n",
        "model %>% compile(\n",
        "  optimizer = \"rmsprop\",\n",
        "  loss = \"categorical_crossentropy\",\n",
        "  metrics = c(\"accuracy\")\n",
        ")\n",
        "\n",
        "model %>% fit(\n",
        "  partial_x_train,\n",
        "  partial_y_train,\n",
        "  epochs = 20,\n",
        "  batch_size = 128,\n",
        "  validation_data = list(x_val, y_val)\n",
        ")"
      ],
      "metadata": {
        "id": "3X7aj9qTiwiT"
      },
      "execution_count": null,
      "outputs": []
    },
    {
      "cell_type": "markdown",
      "source": [
        "64개의 뉴런을 가진 첫 번째 은닉층, 4개의 뉴런을 가진 두 번째 은닉층, 그리고 46개의 뉴런을 가진 출력층으로 구성된 모델을 정의한다.\n",
        " RMSprop 최적화 알고리즘과 범주형 교차 엔트로피 손실 함수를 사용하여 모델을 컴파일한다. 평가 지표로는 accuracy를 사용한다.\n",
        "훈련 데이터로 모델을 학습시키고, 각 에포크마다 검증 데이터를 사용하여 모델의 성능을 평가합니다.\n",
        "이 과정을 통해 모델이 훈련되고, 검증 데이터로 평가됨으로써 모델의 성능을 모니터링하고 개선할 수 있다.\n",
        "\n",
        "\n",
        "\n",
        "\n",
        "\n",
        "\n"
      ],
      "metadata": {
        "id": "4uKEZ8ZU-3y_"
      }
    },
    {
      "cell_type": "markdown",
      "source": [
        "계층변경: 32유닛"
      ],
      "metadata": {
        "id": "Hy0_CTO_jgQ_"
      }
    },
    {
      "cell_type": "code",
      "source": [
        "model <- keras_model_sequential() %>%\n",
        "  layer_dense(units = 32, activation = \"relu\", input_shape = c(10000)) %>%\n",
        "  layer_dense(units = 32, activation = \"relu\") %>%\n",
        "  layer_dense(units = 46, activation = \"softmax\")\n",
        "\n",
        "model %>% compile(\n",
        "  optimizer = \"rmsprop\",\n",
        "  loss = \"categorical_crossentropy\",\n",
        "  metrics = c(\"accuracy\")\n",
        ")\n",
        "\n",
        "history <- model %>% fit(\n",
        "  partial_x_train,\n",
        "  partial_y_train,\n",
        "  epochs = 20,\n",
        "  batch_size = 128,\n",
        "  validation_data = list(x_val, y_val)\n",
        ")\n",
        "results <- model %>% evaluate(x_test, one_hot_test_labels)"
      ],
      "metadata": {
        "id": "xQ9L1x8d_Uan"
      },
      "execution_count": null,
      "outputs": []
    },
    {
      "cell_type": "code",
      "source": [
        "results"
      ],
      "metadata": {
        "colab": {
          "base_uri": "https://localhost:8080/",
          "height": 34
        },
        "id": "_J_b_ZnmDNaz",
        "outputId": "4de10651-fb1e-4505-c9cd-3bc407cebdec"
      },
      "execution_count": null,
      "outputs": [
        {
          "output_type": "display_data",
          "data": {
            "text/html": [
              "<style>\n",
              ".dl-inline {width: auto; margin:0; padding: 0}\n",
              ".dl-inline>dt, .dl-inline>dd {float: none; width: auto; display: inline-block}\n",
              ".dl-inline>dt::after {content: \":\\0020\"; padding-right: .5ex}\n",
              ".dl-inline>dt:not(:first-of-type) {padding-left: .5ex}\n",
              "</style><dl class=dl-inline><dt>loss</dt><dd>1.21670866012573</dd><dt>accuracy</dt><dd>0.782724857330322</dd></dl>\n"
            ],
            "text/markdown": "loss\n:   1.21670866012573accuracy\n:   0.782724857330322\n\n",
            "text/latex": "\\begin{description*}\n\\item[loss] 1.21670866012573\n\\item[accuracy] 0.782724857330322\n\\end{description*}\n",
            "text/plain": [
              "     loss  accuracy \n",
              "1.2167087 0.7827249 "
            ]
          },
          "metadata": {}
        }
      ]
    },
    {
      "cell_type": "markdown",
      "source": [
        " 두 개의 은닉층을 각각 32개의 유닛을 사용하여 정의"
      ],
      "metadata": {
        "id": "eZOXZk0pAF_a"
      }
    },
    {
      "cell_type": "markdown",
      "source": [
        "계층변경: 128유닛"
      ],
      "metadata": {
        "id": "RqxGh-HjkBjK"
      }
    },
    {
      "cell_type": "code",
      "source": [
        "model <- keras_model_sequential() %>%\n",
        "  layer_dense(units = 128, activation = \"relu\", input_shape = c(10000)) %>%\n",
        "  layer_dense(units = 128, activation = \"relu\") %>%\n",
        "  layer_dense(units = 46, activation = \"softmax\")\n",
        "\n",
        "model %>% compile(\n",
        "  optimizer = \"rmsprop\",\n",
        "  loss = \"categorical_crossentropy\",\n",
        "  metrics = c(\"accuracy\")\n",
        ")\n",
        "\n",
        "history <- model %>% fit(\n",
        "  partial_x_train,\n",
        "  partial_y_train,\n",
        "  epochs = 20,\n",
        "  batch_size = 128,\n",
        "  validation_data = list(x_val, y_val)\n",
        ")\n",
        "results <- model %>% evaluate(x_test, one_hot_test_labels)"
      ],
      "metadata": {
        "id": "Ok5ixTIB_VIJ"
      },
      "execution_count": null,
      "outputs": []
    },
    {
      "cell_type": "code",
      "source": [
        "results"
      ],
      "metadata": {
        "colab": {
          "base_uri": "https://localhost:8080/",
          "height": 34
        },
        "id": "QCsPcWThDecP",
        "outputId": "f22758a1-a612-492f-8a3a-efc1841f6770"
      },
      "execution_count": null,
      "outputs": [
        {
          "output_type": "display_data",
          "data": {
            "text/html": [
              "<style>\n",
              ".dl-inline {width: auto; margin:0; padding: 0}\n",
              ".dl-inline>dt, .dl-inline>dd {float: none; width: auto; display: inline-block}\n",
              ".dl-inline>dt::after {content: \":\\0020\"; padding-right: .5ex}\n",
              ".dl-inline>dt:not(:first-of-type) {padding-left: .5ex}\n",
              "</style><dl class=dl-inline><dt>loss</dt><dd>1.19178354740143</dd><dt>accuracy</dt><dd>0.781834363937378</dd></dl>\n"
            ],
            "text/markdown": "loss\n:   1.19178354740143accuracy\n:   0.781834363937378\n\n",
            "text/latex": "\\begin{description*}\n\\item[loss] 1.19178354740143\n\\item[accuracy] 0.781834363937378\n\\end{description*}\n",
            "text/plain": [
              "     loss  accuracy \n",
              "1.1917835 0.7818344 "
            ]
          },
          "metadata": {}
        }
      ]
    },
    {
      "cell_type": "markdown",
      "source": [
        "두 개의 은닉층을 각각 128개의 유닛을 사용"
      ],
      "metadata": {
        "id": "pnMspwRLAjCN"
      }
    },
    {
      "cell_type": "markdown",
      "source": [
        "은닉계층: 1개"
      ],
      "metadata": {
        "id": "nd8jHPQFkFEf"
      }
    },
    {
      "cell_type": "code",
      "source": [
        "model <- keras_model_sequential() %>%\n",
        "  layer_dense(units = 64, activation = \"relu\", input_shape = c(10000)) %>%\n",
        "  layer_dense(units = 46, activation = \"softmax\")\n",
        "\n",
        "model %>% compile(\n",
        "  optimizer = \"rmsprop\",\n",
        "  loss = \"categorical_crossentropy\",\n",
        "  metrics = c(\"accuracy\")\n",
        ")\n",
        "\n",
        "history <- model %>% fit(\n",
        "  partial_x_train,\n",
        "  partial_y_train,\n",
        "  epochs = 20,\n",
        "  batch_size = 128,\n",
        "  validation_data = list(x_val, y_val)\n",
        ")\n",
        "results <- model %>% evaluate(x_test, one_hot_test_labels)"
      ],
      "metadata": {
        "id": "biWkIaEm_Vuw"
      },
      "execution_count": null,
      "outputs": []
    },
    {
      "cell_type": "code",
      "source": [
        "results"
      ],
      "metadata": {
        "colab": {
          "base_uri": "https://localhost:8080/",
          "height": 34
        },
        "id": "ysCkLhNpDvxY",
        "outputId": "d533fb48-f29e-4ed6-fb91-f5d9d74ed166"
      },
      "execution_count": null,
      "outputs": [
        {
          "output_type": "display_data",
          "data": {
            "text/html": [
              "<style>\n",
              ".dl-inline {width: auto; margin:0; padding: 0}\n",
              ".dl-inline>dt, .dl-inline>dd {float: none; width: auto; display: inline-block}\n",
              ".dl-inline>dt::after {content: \":\\0020\"; padding-right: .5ex}\n",
              ".dl-inline>dt:not(:first-of-type) {padding-left: .5ex}\n",
              "</style><dl class=dl-inline><dt>loss</dt><dd>1.07477641105652</dd><dt>accuracy</dt><dd>0.792965292930603</dd></dl>\n"
            ],
            "text/markdown": "loss\n:   1.07477641105652accuracy\n:   0.792965292930603\n\n",
            "text/latex": "\\begin{description*}\n\\item[loss] 1.07477641105652\n\\item[accuracy] 0.792965292930603\n\\end{description*}\n",
            "text/plain": [
              "     loss  accuracy \n",
              "1.0747764 0.7929653 "
            ]
          },
          "metadata": {}
        }
      ]
    },
    {
      "cell_type": "markdown",
      "source": [
        "은닉계층: 3개"
      ],
      "metadata": {
        "id": "wiqj6tmxkl2N"
      }
    },
    {
      "cell_type": "code",
      "source": [
        "# 은닉 계층을 3개 사용하는 새로운 모델 정의\n",
        "model <- keras_model_sequential() %>%\n",
        "  layer_dense(units = 64, activation = \"relu\", input_shape = c(10000)) %>%\n",
        "  layer_dense(units = 64, activation = \"relu\") %>%\n",
        "  layer_dense(units = 64, activation = \"relu\") %>%\n",
        "  layer_dense(units = 46, activation = \"softmax\")\n",
        "\n",
        "# 모델 컴파일\n",
        "model %>% compile(\n",
        "  optimizer = \"rmsprop\",\n",
        "  loss = \"categorical_crossentropy\",\n",
        "  metrics = c(\"accuracy\")\n",
        ")\n",
        "\n",
        "# 모델 학습\n",
        "history <- model %>% fit(\n",
        "  partial_x_train,\n",
        "  partial_y_train,\n",
        "  epochs = 20,\n",
        "  batch_size = 128,\n",
        "  validation_data = list(x_val, y_val)\n",
        ")\n",
        "results <- model %>% evaluate(x_test, one_hot_test_labels)"
      ],
      "metadata": {
        "id": "Zs3IjLdukoSF"
      },
      "execution_count": null,
      "outputs": []
    },
    {
      "cell_type": "code",
      "source": [
        "results"
      ],
      "metadata": {
        "colab": {
          "base_uri": "https://localhost:8080/",
          "height": 34
        },
        "id": "JtlkmLSdD-Ph",
        "outputId": "2aa76844-90b2-4a61-fb3d-e59f369d7198"
      },
      "execution_count": null,
      "outputs": [
        {
          "output_type": "display_data",
          "data": {
            "text/html": [
              "<style>\n",
              ".dl-inline {width: auto; margin:0; padding: 0}\n",
              ".dl-inline>dt, .dl-inline>dd {float: none; width: auto; display: inline-block}\n",
              ".dl-inline>dt::after {content: \":\\0020\"; padding-right: .5ex}\n",
              ".dl-inline>dt:not(:first-of-type) {padding-left: .5ex}\n",
              "</style><dl class=dl-inline><dt>loss</dt><dd>1.27907502651215</dd><dt>accuracy</dt><dd>0.777827262878418</dd></dl>\n"
            ],
            "text/markdown": "loss\n:   1.27907502651215accuracy\n:   0.777827262878418\n\n",
            "text/latex": "\\begin{description*}\n\\item[loss] 1.27907502651215\n\\item[accuracy] 0.777827262878418\n\\end{description*}\n",
            "text/plain": [
              "     loss  accuracy \n",
              "1.2790750 0.7778273 "
            ]
          },
          "metadata": {}
        }
      ]
    }
  ]
}